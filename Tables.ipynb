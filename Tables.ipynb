{
 "cells": [
  {
   "cell_type": "code",
   "execution_count": 1,
   "metadata": {},
   "outputs": [],
   "source": [
    "import pandas as pd"
   ]
  },
  {
   "cell_type": "code",
   "execution_count": 2,
   "metadata": {},
   "outputs": [],
   "source": [
    "mAP =[[\"SSD Resnet50 FPN\", 72.92, 97.03, 81.82]]\n",
    "mAR = [[\"SSD Resnet50 FPN\",  7.04, 60.14, 78.73, 27.69, 69.33, 84.63]]\n",
    "\n",
    "mAP_df = pd.DataFrame(mAP, columns=[['', 'mAP', 'mAP50', 'mAP75']])\n",
    "mAR_df = pd.DataFrame(mAR, columns=[['', 'mAR1', 'mAR10', 'mAR100', 'mARsmall', 'mARmedium', 'mARlarge']])"
   ]
  },
  {
   "cell_type": "code",
   "execution_count": 8,
   "metadata": {},
   "outputs": [
    {
     "name": "stdout",
     "output_type": "stream",
     "text": [
      "\\begin{tabular}{lrrr}\n",
      "\\toprule\n",
      "                  &    mAP &  mAP50 &  mAP75 \\\\\n",
      "\\midrule\n",
      " SSD Resnet50 FPN &  72.92 &  97.03 &  81.82 \\\\\n",
      "\\bottomrule\n",
      "\\end{tabular}\n",
      "\n"
     ]
    },
    {
     "data": {
      "text/html": [
       "<div>\n",
       "<style scoped>\n",
       "    .dataframe tbody tr th:only-of-type {\n",
       "        vertical-align: middle;\n",
       "    }\n",
       "\n",
       "    .dataframe tbody tr th {\n",
       "        vertical-align: top;\n",
       "    }\n",
       "\n",
       "    .dataframe thead tr th {\n",
       "        text-align: left;\n",
       "    }\n",
       "</style>\n",
       "<table border=\"1\" class=\"dataframe\">\n",
       "  <thead>\n",
       "    <tr>\n",
       "      <th></th>\n",
       "      <th></th>\n",
       "      <th>mAP</th>\n",
       "      <th>mAP50</th>\n",
       "      <th>mAP75</th>\n",
       "    </tr>\n",
       "  </thead>\n",
       "  <tbody>\n",
       "    <tr>\n",
       "      <th>0</th>\n",
       "      <td>SSD Resnet50 FPN</td>\n",
       "      <td>72.92</td>\n",
       "      <td>97.03</td>\n",
       "      <td>81.82</td>\n",
       "    </tr>\n",
       "  </tbody>\n",
       "</table>\n",
       "</div>"
      ],
      "text/plain": [
       "                       mAP  mAP50  mAP75\n",
       "0  SSD Resnet50 FPN  72.92  97.03  81.82"
      ]
     },
     "execution_count": 8,
     "metadata": {},
     "output_type": "execute_result"
    }
   ],
   "source": [
    "print(mAP_df.to_latex(index=False))\n",
    "mAP_df"
   ]
  },
  {
   "cell_type": "code",
   "execution_count": 9,
   "metadata": {},
   "outputs": [
    {
     "name": "stdout",
     "output_type": "stream",
     "text": [
      "\\begin{tabular}{lrrrrrr}\n",
      "\\toprule\n",
      "                  &  mAR1 &  mAR10 & mAR100 & mARsmall & mARmedium & mARlarge \\\\\n",
      "\\midrule\n",
      " SSD Resnet50 FPN &  7.04 &  60.14 &  78.73 &    27.69 &     69.33 &    84.63 \\\\\n",
      "\\bottomrule\n",
      "\\end{tabular}\n",
      "\n"
     ]
    },
    {
     "data": {
      "text/html": [
       "<div>\n",
       "<style scoped>\n",
       "    .dataframe tbody tr th:only-of-type {\n",
       "        vertical-align: middle;\n",
       "    }\n",
       "\n",
       "    .dataframe tbody tr th {\n",
       "        vertical-align: top;\n",
       "    }\n",
       "\n",
       "    .dataframe thead tr th {\n",
       "        text-align: left;\n",
       "    }\n",
       "</style>\n",
       "<table border=\"1\" class=\"dataframe\">\n",
       "  <thead>\n",
       "    <tr>\n",
       "      <th></th>\n",
       "      <th></th>\n",
       "      <th>mAR1</th>\n",
       "      <th>mAR10</th>\n",
       "      <th>mAR100</th>\n",
       "      <th>mARsmall</th>\n",
       "      <th>mARmedium</th>\n",
       "      <th>mARlarge</th>\n",
       "    </tr>\n",
       "  </thead>\n",
       "  <tbody>\n",
       "    <tr>\n",
       "      <th>0</th>\n",
       "      <td>SSD Resnet50 FPN</td>\n",
       "      <td>7.04</td>\n",
       "      <td>60.14</td>\n",
       "      <td>78.73</td>\n",
       "      <td>27.69</td>\n",
       "      <td>69.33</td>\n",
       "      <td>84.63</td>\n",
       "    </tr>\n",
       "  </tbody>\n",
       "</table>\n",
       "</div>"
      ],
      "text/plain": [
       "                     mAR1  mAR10 mAR100 mARsmall mARmedium mARlarge\n",
       "0  SSD Resnet50 FPN  7.04  60.14  78.73    27.69     69.33    84.63"
      ]
     },
     "execution_count": 9,
     "metadata": {},
     "output_type": "execute_result"
    }
   ],
   "source": [
    "print(mAR_df.to_latex(index=False))\n",
    "mAR_df"
   ]
  },
  {
   "cell_type": "code",
   "execution_count": null,
   "metadata": {},
   "outputs": [],
   "source": []
  }
 ],
 "metadata": {
  "kernelspec": {
   "display_name": "Python 3",
   "language": "python",
   "name": "python3"
  },
  "language_info": {
   "codemirror_mode": {
    "name": "ipython",
    "version": 3
   },
   "file_extension": ".py",
   "mimetype": "text/x-python",
   "name": "python",
   "nbconvert_exporter": "python",
   "pygments_lexer": "ipython3",
   "version": "3.8.5"
  }
 },
 "nbformat": 4,
 "nbformat_minor": 4
}
